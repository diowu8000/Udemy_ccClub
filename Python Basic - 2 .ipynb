{
 "cells": [
  {
   "cell_type": "code",
   "execution_count": 1,
   "metadata": {},
   "outputs": [],
   "source": [
    "# 輸入一個數值，顯示他的所有因數"
   ]
  },
  {
   "cell_type": "code",
   "execution_count": 13,
   "metadata": {},
   "outputs": [
    {
     "name": "stdout",
     "output_type": "stream",
     "text": [
      "please input a real number\n",
      "38\n",
      "Here are the factors\n",
      "1\n",
      "2\n",
      "19\n",
      "38\n"
     ]
    }
   ],
   "source": [
    "print(\"please input a real number\")\n",
    "\n",
    "a = int(input())\n",
    "n = 1\n",
    "total = 0\n",
    "\n",
    "print (\"Here are the factors\")\n",
    "while n != a+1 :\n",
    "    if a%n == 0 :\n",
    "        print(n)\n",
    "    n += 1 "
   ]
  },
  {
   "cell_type": "code",
   "execution_count": null,
   "metadata": {},
   "outputs": [],
   "source": [
    "# 輸入一個數值，顯示小於他的完全平方數"
   ]
  },
  {
   "cell_type": "code",
   "execution_count": 15,
   "metadata": {},
   "outputs": [
    {
     "name": "stdout",
     "output_type": "stream",
     "text": [
      "please input a real number\n",
      "77\n",
      "Here are the squared number smaller than the input number\n",
      "1\n",
      "4\n",
      "9\n",
      "16\n",
      "25\n",
      "36\n",
      "49\n",
      "64\n"
     ]
    }
   ],
   "source": [
    "print(\"please input a real number\")\n",
    "\n",
    "a = int(input())\n",
    "n = 1\n",
    "total = 0\n",
    "\n",
    "print (\"Here are the squared number smaller than the input number\")\n",
    "\n",
    "while n < a :\n",
    "    if n*n < a :\n",
    "        print(n*n)\n",
    "    n += 1 "
   ]
  },
  {
   "cell_type": "code",
   "execution_count": 16,
   "metadata": {},
   "outputs": [],
   "source": [
    "# 輸入一個字串，顯示其母音個數"
   ]
  },
  {
   "cell_type": "code",
   "execution_count": 119,
   "metadata": {},
   "outputs": [
    {
     "name": "stdout",
     "output_type": "stream",
     "text": [
      "please input a string\n",
      "Eye\n",
      "2\n"
     ]
    }
   ],
   "source": [
    "print(\"please input a string\")\n",
    "\n",
    "a = input()\n",
    "b = list(a)\n",
    "c = [\"a\",\"e\",\"i\",\"o\",\"u\",\"A\",\"E\",\"I\",\"O\",\"U\"]\n",
    "s = set()\n",
    "\n",
    "count = 0 \n",
    "\n",
    "for d in b :\n",
    "    if d not in s :\n",
    "        s.add(d) \n",
    "\n",
    "for e in c : \n",
    "    if e in s :\n",
    "        count += 1\n",
    "        \n",
    "print (count)"
   ]
  },
  {
   "cell_type": "code",
   "execution_count": 83,
   "metadata": {},
   "outputs": [
    {
     "name": "stdout",
     "output_type": "stream",
     "text": [
      "please input a number\n",
      "111111\n",
      "6\n"
     ]
    }
   ],
   "source": [
    "print(\"please input a number\")\n",
    "\n",
    "a = input()\n",
    "b = list(a)\n",
    "total = 0 \n",
    "\n",
    "for c in b :\n",
    "    total += int(c) \n",
    "    \n",
    "print(total)"
   ]
  },
  {
   "cell_type": "code",
   "execution_count": 135,
   "metadata": {},
   "outputs": [
    {
     "name": "stdout",
     "output_type": "stream",
     "text": [
      "please input length\n",
      "3\n",
      "please input width\n",
      "6\n",
      "***\n",
      "***\n",
      "***\n",
      "***\n",
      "***\n",
      "***\n"
     ]
    }
   ],
   "source": [
    "print(\"please input length\")\n",
    "\n",
    "a = int(input())\n",
    "\n",
    "print(\"please input width\")\n",
    "\n",
    "b = int(input())\n",
    "\n",
    "\n",
    "\n",
    "for i in range(b) :\n",
    "        print(\"*\" * a)"
   ]
  },
  {
   "cell_type": "code",
   "execution_count": 1,
   "metadata": {},
   "outputs": [
    {
     "name": "stdout",
     "output_type": "stream",
     "text": [
      "please input length\n",
      "3\n",
      "4\n",
      "+-+\n",
      "-+-\n",
      "+-+\n",
      "-+-\n"
     ]
    }
   ],
   "source": [
    "print(\"please input length\")\n",
    "\n",
    "a = int(input())\n",
    "b = int(input())\n",
    "\n",
    "c = 1\n",
    "\n",
    "for i in range(c,b+c) :\n",
    "        for x in range(i,a+i):\n",
    "            \n",
    "            if x%2 == 0 :\n",
    "                print(\"-\",end=\"\")\n",
    "                \n",
    "            else :\n",
    "                print(\"+\",end=\"\")\n",
    "               \n",
    "        print ()\n",
    "                \n",
    "        c+= 1                "
   ]
  },
  {
   "cell_type": "markdown",
   "metadata": {},
   "source": []
  }
 ],
 "metadata": {
  "kernelspec": {
   "display_name": "Python 3",
   "language": "python",
   "name": "python3"
  },
  "language_info": {
   "codemirror_mode": {
    "name": "ipython",
    "version": 3
   },
   "file_extension": ".py",
   "mimetype": "text/x-python",
   "name": "python",
   "nbconvert_exporter": "python",
   "pygments_lexer": "ipython3",
   "version": "3.7.4"
  }
 },
 "nbformat": 4,
 "nbformat_minor": 2
}
