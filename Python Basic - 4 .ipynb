{
 "cells": [
  {
   "cell_type": "code",
   "execution_count": 1,
   "metadata": {},
   "outputs": [],
   "source": [
    "# 輸入一個 list，依照字數的每一個個位數總和 ex(123 = 6 )，由小排到大"
   ]
  },
  {
   "cell_type": "code",
   "execution_count": 14,
   "metadata": {},
   "outputs": [
    {
     "name": "stdout",
     "output_type": "stream",
     "text": [
      "3\n",
      "please input the  1 items in the array\n",
      "11\n",
      "please input the  2 items in the array\n",
      "22\n",
      "please input the  3 items in the array\n",
      "33\n",
      "[2, 4, 6]\n"
     ]
    }
   ],
   "source": [
    "mylist_number = int(input()) \n",
    "mylist = list()\n",
    "new_list = list()\n",
    "\n",
    "for i in range(mylist_number):\n",
    "    print(\"please input the \", i+1 , \"items in the array\" )\n",
    "    number_list = input()\n",
    "    mylist.append(number_list)\n",
    "\n",
    "for j in range(mylist_number):\n",
    "    c = mylist[j]\n",
    "    sum = 0\n",
    "    \n",
    "    for k in range(len(c)):\n",
    "        \n",
    "        sum = sum + int(c[k])\n",
    "        \n",
    "    new_list.append(sum)     \n",
    "\n",
    "brandnew_list = sorted(new_list)\n",
    "    \n",
    "print(brandnew_list)\n",
    "        "
   ]
  },
  {
   "cell_type": "code",
   "execution_count": null,
   "metadata": {},
   "outputs": [
    {
     "name": "stdout",
     "output_type": "stream",
     "text": [
      "3\n",
      "please input the  1 items in the array\n",
      "apple\n",
      "please input the  2 items in the array\n"
     ]
    }
   ],
   "source": [
    "mylist_number = int(input()) \n",
    "mylist = list()\n",
    "new_list = list()\n",
    "b_new_list = list()\n",
    "\n",
    "for i in range(mylist_number):\n",
    "    print(\"please input the \", i+1 , \"items in the array\" )\n",
    "    number_list = input()\n",
    "    mylist.append(number_list)\n",
    "\n",
    "for j in range(mylist_number):\n",
    "    \n",
    "    c = mylist[j]\n",
    "    d = c [::-1]\n",
    "    new_list.append(d)\n",
    "\n",
    "a_new_list = sorted(new_list)\n",
    "\n",
    "for k in range(mylist_number):\n",
    "    \n",
    "    e = a_new_list[k]\n",
    "    f = e [::-1]\n",
    "    b_new_list.append(f)\n",
    "    \n",
    "print(b_new_list)"
   ]
  },
  {
   "cell_type": "code",
   "execution_count": 36,
   "metadata": {},
   "outputs": [
    {
     "data": {
      "text/plain": [
       "'edcba'"
      ]
     },
     "execution_count": 36,
     "metadata": {},
     "output_type": "execute_result"
    }
   ],
   "source": [
    "a = \"abcde\"\n",
    "a[::-1]"
   ]
  },
  {
   "cell_type": "code",
   "execution_count": null,
   "metadata": {},
   "outputs": [],
   "source": []
  }
 ],
 "metadata": {
  "kernelspec": {
   "display_name": "Python 3",
   "language": "python",
   "name": "python3"
  },
  "language_info": {
   "codemirror_mode": {
    "name": "ipython",
    "version": 3
   },
   "file_extension": ".py",
   "mimetype": "text/x-python",
   "name": "python",
   "nbconvert_exporter": "python",
   "pygments_lexer": "ipython3",
   "version": "3.7.4"
  }
 },
 "nbformat": 4,
 "nbformat_minor": 2
}
