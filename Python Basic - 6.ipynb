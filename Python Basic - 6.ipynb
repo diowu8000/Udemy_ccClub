{
 "cells": [
  {
   "cell_type": "code",
   "execution_count": 30,
   "metadata": {},
   "outputs": [
    {
     "name": "stdout",
     "output_type": "stream",
     "text": [
      "{'{\\\\rtf1\\\\ansi\\\\ansicpg950\\\\cocoartf2511': '{\\\\rtf1\\\\ansi\\\\ansicpg950\\\\cocoartf2511', '\\\\cocoatextscaling0\\\\cocoaplatform0{\\\\fonttbl\\\\f0\\\\fswiss\\\\fcharset0 Helvetica;}': '\\\\cocoatextscaling0\\\\cocoaplatform0{\\\\fonttbl\\\\f0\\\\fswiss\\\\fcharset0 Helvetica;}', '{\\\\colortbl;\\\\red255\\\\green255\\\\blue255;}': '{\\\\colortbl;\\\\red255\\\\green255\\\\blue255;}', '{\\\\*\\\\expandedcolortbl;;}': '{\\\\*\\\\expandedcolortbl;;}', '\\\\paperw11900\\\\paperh16840\\\\margl1440\\\\margr1440\\\\vieww10800\\\\viewh8400\\\\viewkind0': '\\\\paperw11900\\\\paperh16840\\\\margl1440\\\\margr1440\\\\vieww10800\\\\viewh8400\\\\viewkind0', '\\\\pard\\\\tx566\\\\tx1133\\\\tx1700\\\\tx2267\\\\tx2834\\\\tx3401\\\\tx3968\\\\tx4535\\\\tx5102\\\\tx5669\\\\tx6236\\\\tx6803\\\\pardirnatural\\\\partightenfactor0': '\\\\pard\\\\tx566\\\\tx1133\\\\tx1700\\\\tx2267\\\\tx2834\\\\tx3401\\\\tx3968\\\\tx4535\\\\tx5102\\\\tx5669\\\\tx6236\\\\tx6803\\\\pardirnatural\\\\partightenfactor0', '': '', '\\\\f0\\\\fs24 \\\\cf0 1': '\\\\f0\\\\fs24 \\\\cf0 1', '2': '2', '3': '3', '4': '4', '5': '5', '6': '6', '7': '7', '8': '8', '9': '9', '10': '10', '11': '11', '12': '12', '13': '13', '14': '14', '15': '15', '16': '16', '17': '17', '18': '18', '19': '19', '20': '20'}\n",
      "13\n",
      "1 3\n"
     ]
    }
   ],
   "source": [
    "f = open(\"grade.rtf\", \"r\")\n",
    "d = {}\n",
    "\n",
    "for line in f :\n",
    "    line = line.strip()\n",
    "    s = line.split(\"\\t\")\n",
    "\n",
    "    d[s[0]]=s[0]\n",
    "\n",
    "print(d)\n",
    "k = input()\n",
    "print(d[k][0],d[k][1])"
   ]
  },
  {
   "cell_type": "code",
   "execution_count": 11,
   "metadata": {},
   "outputs": [
    {
     "name": "stdout",
     "output_type": "stream",
     "text": [
      "<_io.TextIOWrapper name='grade.txt.rtf' mode='r' encoding='UTF-8'>\n"
     ]
    }
   ],
   "source": [
    "f = open(\"grade.rtf\", \"r\")\n",
    "d = {}\n",
    "\n",
    "for line in f :\n",
    "    line = line.strip()\n",
    "    s = line.split(\"\\t\")\n",
    "    \n",
    "    \n",
    "    d[s[0]]=s[0]\n",
    "\n",
    "print(d)\n",
    "k = input()\n",
    "print(d[k][0],d[k][1])"
   ]
  },
  {
   "cell_type": "code",
   "execution_count": null,
   "metadata": {},
   "outputs": [],
   "source": []
  },
  {
   "cell_type": "code",
   "execution_count": null,
   "metadata": {},
   "outputs": [],
   "source": []
  }
 ],
 "metadata": {
  "kernelspec": {
   "display_name": "Python 3",
   "language": "python",
   "name": "python3"
  },
  "language_info": {
   "codemirror_mode": {
    "name": "ipython",
    "version": 3
   },
   "file_extension": ".py",
   "mimetype": "text/x-python",
   "name": "python",
   "nbconvert_exporter": "python",
   "pygments_lexer": "ipython3",
   "version": "3.7.4"
  }
 },
 "nbformat": 4,
 "nbformat_minor": 2
}
