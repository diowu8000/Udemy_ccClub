{
 "cells": [
  {
   "cell_type": "code",
   "execution_count": 1,
   "metadata": {},
   "outputs": [],
   "source": [
    "# 給定一個串列，顯示兩相成的最大值"
   ]
  },
  {
   "cell_type": "code",
   "execution_count": 5,
   "metadata": {},
   "outputs": [
    {
     "data": {
      "text/plain": [
       "-1"
      ]
     },
     "execution_count": 5,
     "metadata": {},
     "output_type": "execute_result"
    }
   ],
   "source": [
    "a = [1,-1]\n",
    "a[0]*a[1]\n",
    "\n"
   ]
  },
  {
   "cell_type": "code",
   "execution_count": 51,
   "metadata": {},
   "outputs": [
    {
     "name": "stdout",
     "output_type": "stream",
     "text": [
      "please input the numbers of array \n",
      "3\n",
      "please input the 1 items in the array\n",
      "5\n",
      "please input the 2 items in the array\n",
      "2\n",
      "please input the 3 items in the array\n",
      "3\n",
      "[5, 2, 3]\n",
      "10\n",
      "6\n",
      "The greatest number is =  10\n"
     ]
    }
   ],
   "source": [
    "print (\"please input the numbers of array \")\n",
    "n = int(input())\n",
    "s = list()\n",
    "\n",
    "\n",
    "for i in range(n):\n",
    "    print(\"please input the\", i+1 , \"items in the array\" )\n",
    "    a = int(input())\n",
    "    s.append(a)\n",
    "\n",
    "print(s)\n",
    "\n",
    "sum = 0\n",
    "\n",
    "for j in range(0,n-1):\n",
    "    c = s[j] * s[j+1]\n",
    "    print(c)\n",
    "    if c > sum : \n",
    "        sum = c \n",
    "    if j+1 == n :\n",
    "        break \n",
    "\n",
    "print(\"The greatest number is = \", sum)"
   ]
  },
  {
   "cell_type": "code",
   "execution_count": 55,
   "metadata": {},
   "outputs": [
    {
     "name": "stdout",
     "output_type": "stream",
     "text": [
      "please input the numbers of array \n",
      "3\n",
      "please input the 1 items in the array\n",
      "5\n",
      "please input the 2 items in the array\n",
      "23\n",
      "please input the 3 items in the array\n",
      "3\n",
      "The greatest number is =  115\n"
     ]
    }
   ],
   "source": [
    "def max_mul(l):\n",
    "    \n",
    "    sum = 0\n",
    "\n",
    "    for j in range(0,n-1):\n",
    "        c = l[j] * l[j+1]\n",
    "        if c > sum : \n",
    "            sum = c \n",
    "        if j+1 == n :\n",
    "            break \n",
    "\n",
    "    return sum\n",
    "    \n",
    "print (\"please input the numbers of array \")\n",
    "    \n",
    "n = int(input())\n",
    "l = list()\n",
    "\n",
    "\n",
    "for i in range(n):\n",
    "    print(\"please input the\", i+1 , \"items in the array\" )\n",
    "    a = int(input())\n",
    "    l.append(a)\n",
    "\n",
    "\n",
    "print(\"The greatest number is = \", max_mul(l))"
   ]
  },
  {
   "cell_type": "code",
   "execution_count": 82,
   "metadata": {},
   "outputs": [
    {
     "name": "stdout",
     "output_type": "stream",
     "text": [
      "please input the numbers of array \n",
      "3\n",
      "please input the 1 items in the array\n",
      "aa\n",
      "please input the 2 items in the array\n",
      "vvvvv\n",
      "please input the 3 items in the array\n",
      "cc\n",
      "the max string is  vvvvv\n"
     ]
    }
   ],
   "source": [
    "def max_string(l):\n",
    "    \n",
    "    sum = 0\n",
    "    count = 0 \n",
    "\n",
    "    for j in range(0,n-1):\n",
    "        c = len(l[j])\n",
    "        \n",
    "        if c > sum : \n",
    "            sum = c\n",
    "            count = j\n",
    "\n",
    "    return l[count] \n",
    "\n",
    "print (\"please input the numbers of array \")\n",
    "    \n",
    "n = int(input())\n",
    "\n",
    "l = list()\n",
    "\n",
    "for i in range(n):\n",
    "    print(\"please input the\", i+1 , \"items in the array\" )\n",
    "    \n",
    "    a = input()\n",
    "    l.append(a)\n",
    "    \n",
    "print(\"the max string is \", max_string(l))"
   ]
  },
  {
   "cell_type": "code",
   "execution_count": 83,
   "metadata": {},
   "outputs": [
    {
     "name": "stdout",
     "output_type": "stream",
     "text": [
      "please input the numbers of array \n",
      "5\n",
      "please input the 1 items in the array\n",
      "1\n",
      "please input the 2 items in the array\n",
      "2\n",
      "please input the 3 items in the array\n",
      "3\n",
      "please input the 4 items in the array\n",
      "4\n",
      "please input the 5 items in the array\n",
      "5\n",
      "please input the pass number \n",
      "3\n",
      "Test situation is =  ['False', 'False', 'True', 'True', 'True']\n"
     ]
    }
   ],
   "source": [
    "def is_pass(l):\n",
    "\n",
    "    for i in range(0,n):\n",
    "\n",
    "        if l[i] >= t :\n",
    "            l[i] = \"True\"\n",
    "        else : \n",
    "            l[i] = \"False\"\n",
    "                    \n",
    "    return l     \n",
    "\n",
    "print (\"please input the numbers of array \")\n",
    "\n",
    "n = int(input())\n",
    "l = list()\n",
    "\n",
    "for i in range(n):\n",
    "    print(\"please input the\", i+1 , \"items in the array\" )\n",
    "    a = int(input())\n",
    "    l.append(a)\n",
    "\n",
    "print (\"please input the pass number \")\n",
    "\n",
    "t = int(input())\n",
    "\n",
    "print(\"Test situation is = \", is_pass(l))"
   ]
  },
  {
   "cell_type": "code",
   "execution_count": 105,
   "metadata": {},
   "outputs": [
    {
     "name": "stdout",
     "output_type": "stream",
     "text": [
      "please input the numbers of array \n",
      "2\n",
      "please input the first  1 items in the array\n",
      "10\n",
      "please input the first  2 items in the array\n",
      "30\n",
      "please input the second and  1 items in the array\n",
      "20\n",
      "please input the second and  2 items in the array\n",
      "600\n",
      "[10, 30]\n"
     ]
    }
   ],
   "source": [
    "print (\"please input the numbers of array \")\n",
    "\n",
    "n = int(input())\n",
    "l = list()\n",
    "h = list()\n",
    "\n",
    "for i in range(n):\n",
    "    print(\"please input the first \", i+1 , \"items in the array\" )\n",
    "    a = int(input())\n",
    "    l.append(a)\n",
    "    \n",
    "for j in range(n):\n",
    "    print(\"please input the second and \", j+1 , \"items in the array\" )\n",
    "    b = int(input())\n",
    "    h.append(b)\n",
    "\n",
    "sum = list()\n",
    "z = 0\n",
    "v = 0\n",
    "\n",
    "for k in range(0,n): \n",
    "    \n",
    "    if l[k]>h[k]:\n",
    "        z = l[k]\n",
    "    else :\n",
    "        z = h[k]\n",
    "        \n",
    "    for x in range(1,z+1):\n",
    "        \n",
    "        if l[k]%x == 0 and h[k]%x == 0 :\n",
    "            \n",
    "            v = x \n",
    "            \n",
    "            if x > v :\n",
    "                \n",
    "                v = x \n",
    "                \n",
    "    sum.append(v) \n",
    "\n",
    "print(sum)\n"
   ]
  }
 ],
 "metadata": {
  "kernelspec": {
   "display_name": "Python 3",
   "language": "python",
   "name": "python3"
  },
  "language_info": {
   "codemirror_mode": {
    "name": "ipython",
    "version": 3
   },
   "file_extension": ".py",
   "mimetype": "text/x-python",
   "name": "python",
   "nbconvert_exporter": "python",
   "pygments_lexer": "ipython3",
   "version": "3.7.4"
  }
 },
 "nbformat": 4,
 "nbformat_minor": 2
}
