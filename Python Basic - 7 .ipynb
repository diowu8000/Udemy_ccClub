{
 "cells": [
  {
   "cell_type": "code",
   "execution_count": 1,
   "metadata": {},
   "outputs": [],
   "source": [
    "#輸入一個量大於三的串列，如果串列中有任意三個數字相加等於 0 ，則按造 index 順序將其輸出"
   ]
  },
  {
   "cell_type": "code",
   "execution_count": 19,
   "metadata": {},
   "outputs": [
    {
     "name": "stdout",
     "output_type": "stream",
     "text": [
      "6\n",
      "please input the  1 items in the list\n",
      "-5\n",
      "please input the  2 items in the list\n",
      "-3\n",
      "please input the  3 items in the list\n",
      "1\n",
      "please input the  4 items in the list\n",
      "2\n",
      "please input the  5 items in the list\n",
      "4\n",
      "please input the  6 items in the list\n",
      "8\n",
      "[-5, -3, 1, 2, 4, 8]\n",
      "-5 -3 8\n",
      "-5 1 4\n",
      "-3 1 2\n"
     ]
    }
   ],
   "source": [
    "n = int(input ())\n",
    "mylist = list()\n",
    "d = 0\n",
    "\n",
    "\n",
    "for i in range(n):\n",
    "    print(\"please input the \", i+1 , \"items in the list\" )\n",
    "    add_number = int(input())\n",
    "    mylist.append(add_number)\n",
    "\n",
    "print(mylist)\n",
    "\n",
    "for j in range(d,n):\n",
    "    \n",
    "    a = mylist[j]\n",
    "    \n",
    "  \n",
    "    \n",
    "    for k in range(d+1,n):\n",
    "        b = mylist[k]\n",
    "        \n",
    "        if b<a :\n",
    "            break\n",
    "        \n",
    "        \n",
    "        \n",
    "        for l in range(d+2,n):\n",
    "            c = mylist[l]\n",
    "            \n",
    "            if c<b : \n",
    "                break\n",
    "                \n",
    "            \n",
    "            if a + b + c == 0 :\n",
    "                print(mylist[j],mylist[k],mylist[l])"
   ]
  },
  {
   "cell_type": "code",
   "execution_count": 20,
   "metadata": {},
   "outputs": [],
   "source": [
    "#給定一個 list，其中一個元素會出現奇數次，其餘的會出現偶數次，輸出出現奇數次的值"
   ]
  },
  {
   "cell_type": "code",
   "execution_count": 38,
   "metadata": {},
   "outputs": [
    {
     "name": "stdout",
     "output_type": "stream",
     "text": [
      "5\n",
      "{1: 2, 2: 3, 3: 3}\n"
     ]
    }
   ],
   "source": [
    "\n",
    "mylist = [1,1,2,2,3]\n",
    "c = len(mylist)\n",
    "a = {}\n",
    "print(c)\n",
    "count = 1 \n",
    "\n",
    "\n",
    "for i in range(c) : \n",
    "    b = mylist[i]\n",
    " \n",
    "    \n",
    "    if b not in a : \n",
    "        \n",
    "        a.update\n",
    "        a[mylist[i]] = count \n",
    "        \n",
    "    else:\n",
    "        \n",
    "        count += 1 \n",
    "        a[mylist[i]] = count \n",
    "    \n",
    "        \n",
    "print(a)"
   ]
  },
  {
   "cell_type": "code",
   "execution_count": 64,
   "metadata": {},
   "outputs": [
    {
     "name": "stdout",
     "output_type": "stream",
     "text": [
      "1\n"
     ]
    }
   ],
   "source": [
    "mylist = [1,2,3,4,2,3,4,5,6,6,5]\n",
    "a = {}\n",
    "\n",
    "for i in mylist :\n",
    "    a[i] = mylist.count(i)\n",
    "    \n",
    "for j in a : \n",
    "    if a[j] %2 != 0 :\n",
    "        print(j) "
   ]
  },
  {
   "cell_type": "code",
   "execution_count": 77,
   "metadata": {},
   "outputs": [
    {
     "name": "stdout",
     "output_type": "stream",
     "text": [
      "apple\n",
      "a\t1\n",
      "p\t2\n",
      "p\t2\n",
      "l\t1\n",
      "e\t1\n"
     ]
    }
   ],
   "source": [
    "n = input()\n",
    "a = len(n)\n",
    "b = {}\n",
    "count = 1 \n",
    "\n",
    "for i in range(a):\n",
    "    b[n[i]] = n.count(n[i])\n",
    "    print(n[i], end = \"\\t\")\n",
    "    print(b[n[i]])"
   ]
  },
  {
   "cell_type": "code",
   "execution_count": 112,
   "metadata": {},
   "outputs": [
    {
     "name": "stdout",
     "output_type": "stream",
     "text": [
      "()()()())\n",
      "{'(': 4, ')': 5}\n",
      "False\n"
     ]
    }
   ],
   "source": [
    "n = input()\n",
    "b = len(n)\n",
    "a = {}\n",
    "\n",
    "for i in range(b) :\n",
    "    a[n[i]]=n.count(n[i])\n",
    "    \n",
    "print(a)\n",
    "\n",
    "if n[0] != \"(\" and  n[b-1] != \")\":\n",
    "    print(\"False\")\n",
    "\n",
    "elif a[\"(\"] == a[\")\"] :\n",
    "    print(\"True\")\n",
    "    \n",
    "else :\n",
    "    print(\"False\")\n"
   ]
  },
  {
   "cell_type": "code",
   "execution_count": 118,
   "metadata": {},
   "outputs": [
    {
     "name": "stdout",
     "output_type": "stream",
     "text": [
      "7\n",
      "2\n",
      "5\n",
      "[2, 5, 7, 12, 19, 31, 50, 81]\n"
     ]
    }
   ],
   "source": [
    "n = int(input())\n",
    "\n",
    "a = int(input())\n",
    "b = int(input())\n",
    "c = list()\n",
    "\n",
    "c.append(a)\n",
    "c.append(b)\n",
    "\n",
    "for i in range(2,n+1) : \n",
    "    d = c[i-1]+c[i-2]\n",
    "    c.append(d)\n",
    "    \n",
    "    \n",
    "\n",
    "print(c)       "
   ]
  },
  {
   "cell_type": "code",
   "execution_count": null,
   "metadata": {},
   "outputs": [],
   "source": []
  }
 ],
 "metadata": {
  "kernelspec": {
   "display_name": "Python 3",
   "language": "python",
   "name": "python3"
  },
  "language_info": {
   "codemirror_mode": {
    "name": "ipython",
    "version": 3
   },
   "file_extension": ".py",
   "mimetype": "text/x-python",
   "name": "python",
   "nbconvert_exporter": "python",
   "pygments_lexer": "ipython3",
   "version": "3.7.4"
  }
 },
 "nbformat": 4,
 "nbformat_minor": 2
}
