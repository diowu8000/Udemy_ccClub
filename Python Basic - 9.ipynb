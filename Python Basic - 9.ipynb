{
 "cells": [
  {
   "cell_type": "code",
   "execution_count": 82,
   "metadata": {},
   "outputs": [
    {
     "name": "stdout",
     "output_type": "stream",
     "text": [
      "0.1 * 0.2 * 0.3 / 0.4 / 0.5\n",
      "['0.1', '*', '0.2', '*', '0.3', '/', '0.4', '/', '0.5']\n",
      "[0.020000000000000004, '*', '0.3', '/', '0.4', '/', '0.5']\n",
      "[0.006000000000000001, '/', '0.4', '/', '0.5']\n",
      "[0.015000000000000001, '/', '0.5']\n",
      "[0.030000000000000002]\n",
      "[0.030000000000000002]\n"
     ]
    }
   ],
   "source": [
    "n = input()\n",
    "a = n.split(\" \")\n",
    "print(a)\n",
    "\n",
    "for x in a :\n",
    "    \n",
    "    if \"*\" in  a :\n",
    "        b = a.index(\"*\")\n",
    "        c = float(a[b-1]) * float(a[b+1])\n",
    "        a[b] = c\n",
    "        a.pop(b+1)\n",
    "        a.pop(b-1)\n",
    "        print(a)\n",
    "        if \"*\" in a :\n",
    "            continue\n",
    "            \n",
    "      \n",
    "\n",
    "for x in a :\n",
    "    \n",
    "    if \"/\" in  a :\n",
    "        d = a.index(\"/\")\n",
    "        e = float(a[d-1]) /  float(a[d+1])\n",
    "        a[d] = e\n",
    "        a.pop(d+1)\n",
    "        a.pop(d-1)\n",
    "        print(a)\n",
    "        if \"/\" in a :\n",
    "            continue\n",
    "            \n",
    "       \n",
    "    \n",
    "for x in a :\n",
    "        \n",
    "    if \"+\" in  a :\n",
    "        f = a.index(\"+\")\n",
    "        g = float(a[f-1]) + float(a[f+1])\n",
    "        a[f] = g\n",
    "        a.pop(f+1)\n",
    "        a.pop(f-1)\n",
    "        print(a)\n",
    "        if \"+\" in a :\n",
    "            continue\n",
    "      \n",
    "        \n",
    "for x in a :\n",
    "        \n",
    "    if \"-\" in  a :\n",
    "        h = a.index(\"-\")\n",
    "        i = float(a[h-1]) - float(a[h+1])\n",
    "        a[h] = i\n",
    "        a.pop(h+1)\n",
    "        a.pop(h-1)\n",
    "        print(a)\n",
    "        if \"+\" in a :\n",
    "            continue\n",
    "        \n",
    "\n",
    "print(a)"
   ]
  },
  {
   "cell_type": "code",
   "execution_count": 84,
   "metadata": {},
   "outputs": [
    {
     "data": {
      "text/plain": [
       "0.030000000000000002"
      ]
     },
     "execution_count": 84,
     "metadata": {},
     "output_type": "execute_result"
    }
   ],
   "source": [
    "0.1 * 0.2 * 0.3 / 0.4 / 0.5"
   ]
  },
  {
   "cell_type": "code",
   "execution_count": 80,
   "metadata": {},
   "outputs": [
    {
     "data": {
      "text/plain": [
       "28.5"
      ]
     },
     "execution_count": 80,
     "metadata": {},
     "output_type": "execute_result"
    }
   ],
   "source": [
    "-1.5 + 2.5 *3 * 4"
   ]
  },
  {
   "cell_type": "code",
   "execution_count": 75,
   "metadata": {},
   "outputs": [
    {
     "data": {
      "text/plain": [
       "0.15333333333333335"
      ]
     },
     "execution_count": 75,
     "metadata": {},
     "output_type": "execute_result"
    }
   ],
   "source": [
    "0.1 * 0.2 / 0.3 * 0.4 / 0.5 + 0.1"
   ]
  },
  {
   "cell_type": "code",
   "execution_count": null,
   "metadata": {},
   "outputs": [],
   "source": []
  }
 ],
 "metadata": {
  "kernelspec": {
   "display_name": "Python 3",
   "language": "python",
   "name": "python3"
  },
  "language_info": {
   "codemirror_mode": {
    "name": "ipython",
    "version": 3
   },
   "file_extension": ".py",
   "mimetype": "text/x-python",
   "name": "python",
   "nbconvert_exporter": "python",
   "pygments_lexer": "ipython3",
   "version": "3.7.4"
  }
 },
 "nbformat": 4,
 "nbformat_minor": 2
}
