{
 "cells": [
  {
   "cell_type": "code",
   "execution_count": 7,
   "metadata": {},
   "outputs": [
    {
     "name": "stdout",
     "output_type": "stream",
     "text": [
      "26\n",
      "please input the  2 items in the array\n",
      "a\n",
      "please input the  3 items in the array\n",
      "b\n",
      "please input the  4 items in the array\n",
      "c\n",
      "please input the  5 items in the array\n",
      "d\n",
      "please input the  6 items in the array\n",
      "e\n",
      "please input the  7 items in the array\n",
      "f\n",
      "please input the  8 items in the array\n",
      "g\n",
      "please input the  9 items in the array\n",
      "h\n",
      "please input the  10 items in the array\n",
      "i\n",
      "please input the  11 items in the array\n",
      "j\n",
      "please input the  12 items in the array\n",
      "k\n",
      "please input the  13 items in the array\n",
      "l\n",
      "please input the  14 items in the array\n",
      "m\n",
      "please input the  15 items in the array\n",
      "n\n",
      "please input the  16 items in the array\n",
      "o\n",
      "please input the  17 items in the array\n",
      "p\n",
      "please input the  18 items in the array\n",
      "q\n",
      "please input the  19 items in the array\n",
      "r\n",
      "please input the  20 items in the array\n",
      "s\n",
      "please input the  21 items in the array\n",
      "t\n",
      "please input the  22 items in the array\n",
      "u\n",
      "please input the  23 items in the array\n",
      "v\n",
      "please input the  24 items in the array\n",
      "w\n",
      "please input the  25 items in the array\n",
      "x\n",
      "please input the  26 items in the array\n",
      "y\n",
      "please input the  27 items in the array\n",
      "z\n",
      "{'a': 1, 'b': 2, 'c': 3, 'd': 4, 'e': 5, 'f': 6, 'g': 7, 'h': 8, 'i': 9, 'j': 10, 'k': 11, 'l': 12, 'm': 13, 'n': 14, 'o': 15, 'p': 16, 'q': 17, 'r': 18, 's': 19, 't': 20, 'u': 21, 'v': 22, 'w': 23, 'x': 24, 'y': 25, 'z': 26}\n"
     ]
    }
   ],
   "source": [
    "n = int(input())\n",
    "my_dict= {}\n",
    "\n",
    "for i in range(1,n+1):\n",
    "    print(\"please input the \", i , \"items in the array\" )\n",
    "    my_dict[input()] = i\n",
    "print(my_dict)"
   ]
  },
  {
   "cell_type": "code",
   "execution_count": 30,
   "metadata": {},
   "outputs": [
    {
     "name": "stdout",
     "output_type": "stream",
     "text": [
      "3\n",
      "please input the  1 items in the array\n",
      "apple\n",
      "please input the  2 items in the array\n",
      "banana\n",
      "please input the  3 items in the array\n",
      "python\n",
      "['apple', 'banana', 'python']\n",
      "[50, 33, 98]\n",
      "[33, 50, 98]\n",
      "{50: 'apple', 33: 'banana', 98: 'python'}\n",
      "{33: 'banana', 50: 'apple', 98: 'python'}\n",
      "['banana', 'apple', 'python']\n"
     ]
    }
   ],
   "source": [
    "n1 = int(input())\n",
    "my_list= list()\n",
    "total = list()\n",
    "aa = {}\n",
    "bb = {}\n",
    "new_list = list()\n",
    "\n",
    "for i in range(n1):\n",
    "    print(\"please input the \", i+1 , \"items in the array\" )\n",
    "    my_list.append(input())\n",
    "\n",
    "for j in range(n1):\n",
    "    c = my_list[j]\n",
    "    d = len(c)\n",
    "    sum = 0\n",
    "    \n",
    "    for k in range(d):\n",
    "        d = my_dict[c[k]]\n",
    "        sum = sum + d \n",
    "    \n",
    "    total.append(sum)\n",
    "    aa[sum] = c\n",
    "    \n",
    "    \n",
    "new_total = sorted(total)\n",
    "\n",
    "for i in range(n1):\n",
    "    bb[new_total[i]] = aa[new_total[i]]\n",
    "    new_list.append(bb[new_total[i]])\n",
    "\n",
    "\n",
    "\n",
    "print(my_list)           \n",
    "print(total)\n",
    "print(new_total)\n",
    "print(aa)\n",
    "print(bb)\n",
    "print(new_list)\n",
    "    \n",
    "        \n",
    "    "
   ]
  },
  {
   "cell_type": "code",
   "execution_count": null,
   "metadata": {},
   "outputs": [],
   "source": []
  },
  {
   "cell_type": "code",
   "execution_count": null,
   "metadata": {},
   "outputs": [],
   "source": []
  },
  {
   "cell_type": "code",
   "execution_count": null,
   "metadata": {},
   "outputs": [],
   "source": []
  },
  {
   "cell_type": "code",
   "execution_count": null,
   "metadata": {},
   "outputs": [],
   "source": []
  }
 ],
 "metadata": {
  "kernelspec": {
   "display_name": "Python 3",
   "language": "python",
   "name": "python3"
  },
  "language_info": {
   "codemirror_mode": {
    "name": "ipython",
    "version": 3
   },
   "file_extension": ".py",
   "mimetype": "text/x-python",
   "name": "python",
   "nbconvert_exporter": "python",
   "pygments_lexer": "ipython3",
   "version": "3.7.4"
  }
 },
 "nbformat": 4,
 "nbformat_minor": 2
}
