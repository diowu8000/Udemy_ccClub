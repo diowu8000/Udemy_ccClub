{
 "cells": [
  {
   "cell_type": "code",
   "execution_count": null,
   "metadata": {},
   "outputs": [],
   "source": [
    "# String 基礎應用"
   ]
  },
  {
   "cell_type": "code",
   "execution_count": 6,
   "metadata": {},
   "outputs": [
    {
     "name": "stdout",
     "output_type": "stream",
     "text": [
      "ApplePine\n",
      "Apple Pine\n",
      "ApplePine\n",
      "ApplePine\n",
      "\"Apple Pine\"\n"
     ]
    }
   ],
   "source": [
    "string_a = \"Apple\"\n",
    "string_b = \"Pine\"\n",
    "\n",
    "print(string_a + string_b)\n",
    "print(string_a, string_b)\n",
    "print(string_a, string_b, sep=\"\")\n",
    "\n",
    "print(string_a, end=\"\")\n",
    "print(string_b)\n",
    "\n",
    "print(\"\\\"Apple Pine\\\"\")"
   ]
  },
  {
   "cell_type": "code",
   "execution_count": 7,
   "metadata": {},
   "outputs": [],
   "source": [
    "# string 抓特定位置"
   ]
  },
  {
   "cell_type": "code",
   "execution_count": 8,
   "metadata": {},
   "outputs": [
    {
     "name": "stdout",
     "output_type": "stream",
     "text": [
      "Apple\n"
     ]
    },
    {
     "data": {
      "text/plain": [
       "'ppl'"
      ]
     },
     "execution_count": 8,
     "metadata": {},
     "output_type": "execute_result"
    }
   ],
   "source": [
    "string_c = \"Apple\"\n",
    "print(string_c )\n",
    "len(string_c )\n",
    "string_c [1:]\n",
    "string_c [-1]\n",
    "string_c [1:-1]"
   ]
  },
  {
   "cell_type": "code",
   "execution_count": 9,
   "metadata": {},
   "outputs": [],
   "source": [
    "# string 大小寫轉換 / 取代字元"
   ]
  },
  {
   "cell_type": "code",
   "execution_count": 11,
   "metadata": {},
   "outputs": [
    {
     "name": "stdout",
     "output_type": "stream",
     "text": [
      "APPLE\n",
      "Bpple\n"
     ]
    }
   ],
   "source": [
    "upper_c=string_c.upper()\n",
    "print(upper_c)\n",
    "\n",
    "string_d = string_c.replace(\"A\", \"B\")\n",
    "print(string_d)"
   ]
  },
  {
   "cell_type": "code",
   "execution_count": null,
   "metadata": {},
   "outputs": [],
   "source": [
    "# string 根據特定 字元 split  / 抓取特定字元"
   ]
  },
  {
   "cell_type": "code",
   "execution_count": 21,
   "metadata": {},
   "outputs": [
    {
     "name": "stdout",
     "output_type": "stream",
     "text": [
      "['Bpp', 'e']\n",
      "pB\n",
      "Bpp\n"
     ]
    }
   ],
   "source": [
    "split_d=string_d.split(\"l\")\n",
    "print(split_d)\n",
    "print(string_d[1]+string_d[0])\n",
    "print(split_d[0])"
   ]
  },
  {
   "cell_type": "code",
   "execution_count": null,
   "metadata": {},
   "outputs": [],
   "source": [
    "# 浮點數，答案只有\"是否\""
   ]
  },
  {
   "cell_type": "code",
   "execution_count": 23,
   "metadata": {},
   "outputs": [
    {
     "name": "stdout",
     "output_type": "stream",
     "text": [
      "number\n"
     ]
    },
    {
     "data": {
      "text/plain": [
       "False"
      ]
     },
     "execution_count": 23,
     "metadata": {},
     "output_type": "execute_result"
    }
   ],
   "source": [
    "string_e = input()\n",
    "int_a = 5 \n",
    "len(string_e)==int_a"
   ]
  },
  {
   "cell_type": "code",
   "execution_count": 3,
   "metadata": {},
   "outputs": [
    {
     "name": "stdout",
     "output_type": "stream",
     "text": [
      "appleqwe\n",
      "ok\n"
     ]
    }
   ],
   "source": [
    "password = input()\n",
    "if len(password) >= 8 : \n",
    "    print (\"ok\")\n",
    "else : \n",
    "    print (\"reset\")\n"
   ]
  },
  {
   "cell_type": "code",
   "execution_count": 1,
   "metadata": {},
   "outputs": [
    {
     "name": "stdout",
     "output_type": "stream",
     "text": [
      "55\n",
      "Fail\n"
     ]
    }
   ],
   "source": [
    "point = int(input())\n",
    "\n",
    "if (point > 100) or  (point<0):\n",
    "    print(\"error\")\n",
    "elif point >= 60 : \n",
    "    print(\"pass\")\n",
    "elif point < 60 :\n",
    "    print(\"Fail\")"
   ]
  },
  {
   "cell_type": "code",
   "execution_count": 5,
   "metadata": {},
   "outputs": [
    {
     "name": "stdout",
     "output_type": "stream",
     "text": [
      "1\n",
      "2\n",
      "3\n",
      "False\n"
     ]
    }
   ],
   "source": [
    "a = int(input())\n",
    "b = int(input())\n",
    "c = int(input())\n",
    "\n",
    "if a > b and a > c :\n",
    "    \n",
    "    if b+c > a : \n",
    "        print (\"True\")\n",
    "    else : \n",
    "        print (\"False\")\n",
    "        \n",
    "elif b > a and b > c :\n",
    "    if a+c > b : \n",
    "        print (\"True\")\n",
    "    else : \n",
    "        print (\"False\")\n",
    "        \n",
    "elif c > a and c > b :\n",
    "    if a+b > c : \n",
    "        print (\"True\")\n",
    "    else : \n",
    "        print (\"False\")        "
   ]
  },
  {
   "cell_type": "code",
   "execution_count": 9,
   "metadata": {},
   "outputs": [
    {
     "name": "stdout",
     "output_type": "stream",
     "text": [
      "5\n",
      "12\n",
      "13\n",
      "True\n"
     ]
    }
   ],
   "source": [
    "a = int(input())\n",
    "b = int(input())\n",
    "c = int(input())\n",
    "\n",
    "if a > b and a > c :\n",
    "    \n",
    "    if b**2+c**2 == a**2 : \n",
    "        print (\"True\")\n",
    "    else : \n",
    "        print (\"False\")\n",
    "        \n",
    "elif b > a and b > c :\n",
    "    if a**2+c**2 == b**2 : \n",
    "        print (\"True\")\n",
    "    else : \n",
    "        print (\"False\")\n",
    "        \n",
    "elif c > a and c > b :\n",
    "    if a**2+ b**2 == c**2 : \n",
    "        print (\"True\")\n",
    "    else : \n",
    "        print (\"False\")        "
   ]
  },
  {
   "cell_type": "code",
   "execution_count": 16,
   "metadata": {},
   "outputs": [
    {
     "data": {
      "text/plain": [
       "[1, 2, 3, 4, 5, 1, 2, 3]"
      ]
     },
     "execution_count": 16,
     "metadata": {},
     "output_type": "execute_result"
    }
   ],
   "source": [
    "a = [1,2,3,4,5]\n",
    "a[0]\n",
    "len(a)\n",
    "4 in a \n",
    "\n",
    "b = [1,2,3]\n",
    "a+b"
   ]
  },
  {
   "cell_type": "code",
   "execution_count": 39,
   "metadata": {},
   "outputs": [
    {
     "data": {
      "text/plain": [
       "[1, 2, 3, 5, 5, 4]"
      ]
     },
     "execution_count": 39,
     "metadata": {},
     "output_type": "execute_result"
    }
   ],
   "source": [
    "a\n",
    "a.append(4)\n",
    "a\n",
    "a.count(4)\n",
    "a.remove(6)\n",
    "a"
   ]
  },
  {
   "cell_type": "code",
   "execution_count": 41,
   "metadata": {},
   "outputs": [
    {
     "data": {
      "text/plain": [
       "[1, 2, 3, 5, 4]"
      ]
     },
     "execution_count": 41,
     "metadata": {},
     "output_type": "execute_result"
    }
   ],
   "source": [
    "a.remove(5)\n",
    "a"
   ]
  },
  {
   "cell_type": "code",
   "execution_count": 38,
   "metadata": {},
   "outputs": [
    {
     "data": {
      "text/plain": [
       "[1, 2, 3, 5, 6, 5]"
      ]
     },
     "execution_count": 38,
     "metadata": {},
     "output_type": "execute_result"
    }
   ],
   "source": [
    "a.remove(4)\n",
    "a"
   ]
  },
  {
   "cell_type": "code",
   "execution_count": 43,
   "metadata": {},
   "outputs": [
    {
     "data": {
      "text/plain": [
       "[4, 5, 3, 2, 1]"
      ]
     },
     "execution_count": 43,
     "metadata": {},
     "output_type": "execute_result"
    }
   ],
   "source": [
    "a.reverse()\n",
    "a"
   ]
  },
  {
   "cell_type": "code",
   "execution_count": 44,
   "metadata": {},
   "outputs": [
    {
     "data": {
      "text/plain": [
       "[4, 5, 3, 2, 6, 1]"
      ]
     },
     "execution_count": 44,
     "metadata": {},
     "output_type": "execute_result"
    }
   ],
   "source": [
    "a.insert(4,6)\n",
    "a"
   ]
  },
  {
   "cell_type": "code",
   "execution_count": 45,
   "metadata": {},
   "outputs": [
    {
     "data": {
      "text/plain": [
       "[4, 5, 3, 2, 6]"
      ]
     },
     "execution_count": 45,
     "metadata": {},
     "output_type": "execute_result"
    }
   ],
   "source": [
    "a.pop()\n",
    "a"
   ]
  },
  {
   "cell_type": "code",
   "execution_count": 50,
   "metadata": {},
   "outputs": [
    {
     "data": {
      "text/plain": [
       "False"
      ]
     },
     "execution_count": 50,
     "metadata": {},
     "output_type": "execute_result"
    }
   ],
   "source": [
    "lst1 = [\"apple\", \"pen\"]\n",
    "lst2 = [\"pineapple\", \"pen\"]\n",
    "s = \"apple\"\n",
    "n = \"banana\"\n",
    "\n",
    "\n",
    "\n",
    "s in lst1 + lst2 \n",
    "n in lst1 + lst2"
   ]
  },
  {
   "cell_type": "code",
   "execution_count": null,
   "metadata": {},
   "outputs": [],
   "source": []
  }
 ],
 "metadata": {
  "kernelspec": {
   "display_name": "Python 3",
   "language": "python",
   "name": "python3"
  },
  "language_info": {
   "codemirror_mode": {
    "name": "ipython",
    "version": 3
   },
   "file_extension": ".py",
   "mimetype": "text/x-python",
   "name": "python",
   "nbconvert_exporter": "python",
   "pygments_lexer": "ipython3",
   "version": "3.7.4"
  }
 },
 "nbformat": 4,
 "nbformat_minor": 2
}
