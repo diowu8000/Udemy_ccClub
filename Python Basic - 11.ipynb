{
 "cells": [
  {
   "cell_type": "code",
   "execution_count": 103,
   "metadata": {},
   "outputs": [
    {
     "name": "stdout",
     "output_type": "stream",
     "text": [
      "#001\n",
      "['妙蛙種子', '妙蛙種子', '妙蛙草', '妙蛙草', '妙蛙花', '妙蛙花', '獨角蟲', '鐵殼蛹', '大針蜂', '阿柏蛇', '阿柏怪', '尼多蘭', '尼多娜', '尼多后', '尼多朗', '尼多力諾', '尼多王', '超音蝠', '大嘴蝠', '走路草', '走路草', '臭臭花', '臭臭花', '霸王花', '霸王花', '派拉斯', '派拉斯特', '毛球', '摩魯蛾', '喇叭芽', '喇叭芽', '口呆花', '口呆花', '大食花', '大食花', '瑪瑙水母', '毒刺水母', '臭泥', '臭臭泥', '鬼斯', '鬼斯通', '耿鬼', '蛋蛋', '椰蛋樹', '瓦斯彈', '雙彈瓦斯', '蔓藤怪']\n"
     ]
    }
   ],
   "source": [
    "f = open(\"pokemon.txt\", \"r\")\n",
    "d={}\n",
    "a = []\n",
    "e = []\n",
    "\n",
    "for line in f :\n",
    "    line = line.strip()\n",
    "    s = line.split(\"\\t\")\n",
    "    a.append(s[0])\n",
    "    d[s[0]] = [s[1],s[3:]]\n",
    "    \n",
    "n = input()\n",
    "\n",
    "for i in range (len(d)):\n",
    "    \n",
    "    for j in d[n][1]:\n",
    "        if j in d[a[i]][1]:\n",
    "            e.append(d[a[i]][0])\n",
    " \n",
    "print(e)\n",
    "            \n",
    "        \n",
    "    \n",
    "   \n",
    "\n",
    "\n",
    "\n",
    "\n",
    "\n",
    "    \n",
    "    "
   ]
  },
  {
   "cell_type": "code",
   "execution_count": 96,
   "metadata": {},
   "outputs": [
    {
     "data": {
      "text/plain": [
       "True"
      ]
     },
     "execution_count": 96,
     "metadata": {},
     "output_type": "execute_result"
    }
   ],
   "source": [
    "'電' in d[n][1]"
   ]
  },
  {
   "cell_type": "code",
   "execution_count": 89,
   "metadata": {},
   "outputs": [],
   "source": [
    "#001"
   ]
  },
  {
   "cell_type": "code",
   "execution_count": 99,
   "metadata": {},
   "outputs": [
    {
     "ename": "TypeError",
     "evalue": "list indices must be integers or slices, not str",
     "output_type": "error",
     "traceback": [
      "\u001b[0;31m---------------------------------------------------------------------------\u001b[0m",
      "\u001b[0;31mTypeError\u001b[0m                                 Traceback (most recent call last)",
      "\u001b[0;32m<ipython-input-99-6a8fac8f4354>\u001b[0m in \u001b[0;36m<module>\u001b[0;34m\u001b[0m\n\u001b[0;32m----> 1\u001b[0;31m \u001b[0;32mif\u001b[0m \u001b[0mj\u001b[0m \u001b[0;32min\u001b[0m \u001b[0md\u001b[0m\u001b[0;34m[\u001b[0m\u001b[0ma\u001b[0m\u001b[0;34m[\u001b[0m\u001b[0mj\u001b[0m\u001b[0;34m]\u001b[0m\u001b[0;34m]\u001b[0m\u001b[0;34m[\u001b[0m\u001b[0;36m1\u001b[0m\u001b[0;34m]\u001b[0m \u001b[0;34m:\u001b[0m\u001b[0;34m\u001b[0m\u001b[0;34m\u001b[0m\u001b[0m\n\u001b[0m\u001b[1;32m      2\u001b[0m      \u001b[0mprint\u001b[0m\u001b[0;34m(\u001b[0m\u001b[0md\u001b[0m\u001b[0;34m[\u001b[0m\u001b[0ma\u001b[0m\u001b[0;34m[\u001b[0m\u001b[0mj\u001b[0m\u001b[0;34m]\u001b[0m\u001b[0;34m]\u001b[0m\u001b[0;34m[\u001b[0m\u001b[0;36m0\u001b[0m\u001b[0;34m]\u001b[0m\u001b[0;34m)\u001b[0m\u001b[0;34m\u001b[0m\u001b[0;34m\u001b[0m\u001b[0m\n\u001b[1;32m      3\u001b[0m \u001b[0;34m\u001b[0m\u001b[0m\n",
      "\u001b[0;31mTypeError\u001b[0m: list indices must be integers or slices, not str"
     ]
    }
   ],
   "source": [
    "       if j in d[a[j]][1] :\n",
    "            print(d[a[j]][0])\n",
    "\n"
   ]
  },
  {
   "cell_type": "code",
   "execution_count": null,
   "metadata": {},
   "outputs": [],
   "source": []
  }
 ],
 "metadata": {
  "kernelspec": {
   "display_name": "Python 3",
   "language": "python",
   "name": "python3"
  },
  "language_info": {
   "codemirror_mode": {
    "name": "ipython",
    "version": 3
   },
   "file_extension": ".py",
   "mimetype": "text/x-python",
   "name": "python",
   "nbconvert_exporter": "python",
   "pygments_lexer": "ipython3",
   "version": "3.7.4"
  }
 },
 "nbformat": 4,
 "nbformat_minor": 2
}
